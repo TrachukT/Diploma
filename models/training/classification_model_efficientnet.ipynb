{
 "cells": [
  {
   "cell_type": "code",
   "execution_count": 1,
   "metadata": {},
   "outputs": [],
   "source": [
    "import torch\n",
    "import torch.nn as nn\n",
    "import torch.optim as optim\n",
    "from torch.utils.data import DataLoader, random_split\n",
    "from torchvision import transforms, models\n",
    "from torchvision.datasets import ImageFolder\n",
    "from sklearn.metrics import accuracy_score, precision_recall_fscore_support\n",
    "import wandb\n"
   ]
  },
  {
   "cell_type": "code",
   "execution_count": null,
   "metadata": {},
   "outputs": [
    {
     "name": "stderr",
     "output_type": "stream",
     "text": [
      "wandb: Currently logged in as: tetiana-trachuk-kn-2021 (tetiana-trachuk-kn-2021-) to https://api.wandb.ai. Use `wandb login --relogin` to force relogin\n",
      "wandb: Using wandb-core as the SDK backend.  Please refer to https://wandb.me/wandb-core for more information.\n"
     ]
    },
    {
     "data": {
      "text/html": [
       "Tracking run with wandb version 0.19.6"
      ],
      "text/plain": [
       "<IPython.core.display.HTML object>"
      ]
     },
     "metadata": {},
     "output_type": "display_data"
    },
    {
     "data": {
      "text/html": [
       "Run data is saved locally in <code>c:\\Diploma\\Diploma\\wandb\\run-20250221_185114-bz2xq7fk</code>"
      ],
      "text/plain": [
       "<IPython.core.display.HTML object>"
      ]
     },
     "metadata": {},
     "output_type": "display_data"
    },
    {
     "data": {
      "text/html": [
       "Syncing run <strong><a href='https://wandb.ai/tetiana-trachuk-kn-2021-/efficientnet-skin-disease-model/runs/bz2xq7fk' target=\"_blank\">wild-darkness-3</a></strong> to <a href='https://wandb.ai/tetiana-trachuk-kn-2021-/efficientnet-skin-disease-model' target=\"_blank\">Weights & Biases</a> (<a href='https://wandb.me/developer-guide' target=\"_blank\">docs</a>)<br>"
      ],
      "text/plain": [
       "<IPython.core.display.HTML object>"
      ]
     },
     "metadata": {},
     "output_type": "display_data"
    },
    {
     "data": {
      "text/html": [
       " View project at <a href='https://wandb.ai/tetiana-trachuk-kn-2021-/efficientnet-skin-disease-model' target=\"_blank\">https://wandb.ai/tetiana-trachuk-kn-2021-/efficientnet-skin-disease-model</a>"
      ],
      "text/plain": [
       "<IPython.core.display.HTML object>"
      ]
     },
     "metadata": {},
     "output_type": "display_data"
    },
    {
     "data": {
      "text/html": [
       " View run at <a href='https://wandb.ai/tetiana-trachuk-kn-2021-/efficientnet-skin-disease-model/runs/bz2xq7fk' target=\"_blank\">https://wandb.ai/tetiana-trachuk-kn-2021-/efficientnet-skin-disease-model/runs/bz2xq7fk</a>"
      ],
      "text/plain": [
       "<IPython.core.display.HTML object>"
      ]
     },
     "metadata": {},
     "output_type": "display_data"
    }
   ],
   "source": [
    "BATCH_SIZE = 64\n",
    "NUM_CLASSES = 7\n",
    "LEARNING_RATE = 0.001\n",
    "EPOCHS_NUM = 15\n",
    "\n",
    "wandb.init(\n",
    "    project=\"efficientnet-skin-disease-model\",\n",
    "    config={\n",
    "        \"batch_size\": BATCH_SIZE,\n",
    "        \"num_classes\": NUM_CLASSES,\n",
    "        \"learning_rate\": LEARNING_RATE,\n",
    "        \"epochs\": EPOCHS_NUM,\n",
    "    }\n",
    ")\n",
    "\n",
    "device = torch.device('cuda' if torch.cuda.is_available() else 'cpu')\n",
    "\n"
   ]
  },
  {
   "cell_type": "code",
   "execution_count": null,
   "metadata": {},
   "outputs": [],
   "source": [
    "augmentation_transforms = transforms.Compose([\n",
    "    transforms.RandomRotation(degrees=15),\n",
    "    transforms.RandomResizedCrop(size=224, scale=(0.8, 1.0)),\n",
    "    transforms.RandomHorizontalFlip(p=0.5),\n",
    "    transforms.ToTensor(),\n",
    "    transforms.Normalize(mean=[0.485, 0.456, 0.406], std=[0.229, 0.224, 0.225]),\n",
    "])\n",
    "\n",
    "test_transforms = transforms.Compose([\n",
    "    transforms.Resize((224, 224)),\n",
    "    transforms.ToTensor(),\n",
    "    transforms.Normalize(mean=[0.485, 0.456, 0.406], std=[0.229, 0.224, 0.225]),\n",
    "])\n",
    "\n"
   ]
  },
  {
   "cell_type": "code",
   "execution_count": null,
   "metadata": {},
   "outputs": [
    {
     "name": "stderr",
     "output_type": "stream",
     "text": [
      "c:\\Diploma\\Diploma\\venv\\Lib\\site-packages\\torchvision\\models\\_utils.py:208: UserWarning: The parameter 'pretrained' is deprecated since 0.13 and may be removed in the future, please use 'weights' instead.\n",
      "  warnings.warn(\n",
      "c:\\Diploma\\Diploma\\venv\\Lib\\site-packages\\torchvision\\models\\_utils.py:223: UserWarning: Arguments other than a weight enum or `None` for 'weights' are deprecated since 0.13 and may be removed in the future. The current behavior is equivalent to passing `weights=EfficientNet_B0_Weights.IMAGENET1K_V1`. You can also use `weights=EfficientNet_B0_Weights.DEFAULT` to get the most up-to-date weights.\n",
      "  warnings.warn(msg)\n"
     ]
    }
   ],
   "source": [
    "dataset = ImageFolder(root='C:/Diploma/classification_dataset', transform=augmentation_transforms)\n",
    "train_size = int(0.85 * len(dataset))\n",
    "test_size = len(dataset) - train_size\n",
    "train_dataset, test_dataset = random_split(dataset, [train_size, test_size])\n",
    "test_dataset.dataset.transform = test_transforms\n",
    "\n",
    "train_loader = DataLoader(train_dataset, batch_size=BATCH_SIZE, shuffle=True, num_workers=4)\n",
    "test_loader = DataLoader(test_dataset, batch_size=BATCH_SIZE, shuffle=False, num_workers=4)\n",
    "\n",
    "# Load Pretrained EfficientNet Model\n",
    "model = models.efficientnet_b0(pretrained=True)\n",
    "in_features = model.classifier[1].in_features\n",
    "model.classifier = nn.Sequential(\n",
    "    nn.Dropout(0.3),\n",
    "    nn.Linear(in_features, NUM_CLASSES)\n",
    ")\n",
    "model.to(device)\n",
    "\n",
    "criterion = nn.CrossEntropyLoss()\n",
    "optimizer = optim.AdamW(model.parameters(), lr=LEARNING_RATE)\n"
   ]
  },
  {
   "cell_type": "code",
   "execution_count": 5,
   "metadata": {},
   "outputs": [
    {
     "name": "stdout",
     "output_type": "stream",
     "text": [
      "Epoch [1/15], Loss: 0.9050, Acc: 0.6444, Prec: 0.6082, Recall: 0.6037, F1: 0.6055\n",
      "Epoch [2/15], Loss: 0.6502, Acc: 0.7506, Prec: 0.7232, Recall: 0.7217, F1: 0.7221\n",
      "Epoch [3/15], Loss: 0.5083, Acc: 0.8066, Prec: 0.7821, Recall: 0.7814, F1: 0.7816\n",
      "Epoch [4/15], Loss: 0.4097, Acc: 0.8503, Prec: 0.8304, Recall: 0.8306, F1: 0.8303\n",
      "Epoch [5/15], Loss: 0.3292, Acc: 0.8804, Prec: 0.8642, Recall: 0.8643, F1: 0.8642\n",
      "Epoch [6/15], Loss: 0.2755, Acc: 0.8994, Prec: 0.8858, Recall: 0.8857, F1: 0.8857\n",
      "Epoch [7/15], Loss: 0.2268, Acc: 0.9193, Prec: 0.9069, Recall: 0.9073, F1: 0.9070\n",
      "Epoch [8/15], Loss: 0.1756, Acc: 0.9385, Prec: 0.9293, Recall: 0.9306, F1: 0.9299\n",
      "Epoch [9/15], Loss: 0.1796, Acc: 0.9355, Prec: 0.9258, Recall: 0.9261, F1: 0.9260\n",
      "Epoch [10/15], Loss: 0.1363, Acc: 0.9501, Prec: 0.9418, Recall: 0.9429, F1: 0.9423\n",
      "Epoch [11/15], Loss: 0.1474, Acc: 0.9464, Prec: 0.9398, Recall: 0.9392, F1: 0.9395\n",
      "Epoch [12/15], Loss: 0.1192, Acc: 0.9574, Prec: 0.9515, Recall: 0.9522, F1: 0.9518\n",
      "Epoch [13/15], Loss: 0.1216, Acc: 0.9572, Prec: 0.9503, Recall: 0.9507, F1: 0.9505\n",
      "Epoch [14/15], Loss: 0.1592, Acc: 0.9417, Prec: 0.9352, Recall: 0.9359, F1: 0.9355\n",
      "Epoch [15/15], Loss: 0.0813, Acc: 0.9723, Prec: 0.9684, Recall: 0.9686, F1: 0.9685\n"
     ]
    }
   ],
   "source": [
    "for epoch in range(EPOCHS_NUM):\n",
    "    model.train()\n",
    "    running_loss = 0.0\n",
    "    all_preds, all_labels = [], []\n",
    "    \n",
    "    for images, labels in train_loader:\n",
    "        images, labels = images.to(device), labels.to(device)\n",
    "        optimizer.zero_grad()\n",
    "        outputs = model(images)\n",
    "        loss = criterion(outputs, labels)\n",
    "        loss.backward()\n",
    "        optimizer.step()\n",
    "        running_loss += loss.item()\n",
    "        \n",
    "        preds = torch.argmax(outputs, dim=1).cpu().numpy()\n",
    "        labels = labels.cpu().numpy()\n",
    "        all_preds.extend(preds)\n",
    "        all_labels.extend(labels)\n",
    "    \n",
    "    acc = accuracy_score(all_labels, all_preds)\n",
    "    precision, recall, f1, _ = precision_recall_fscore_support(all_labels, all_preds, average='macro')\n",
    "    \n",
    "    print(f\"Epoch [{epoch+1}/{EPOCHS_NUM}], Loss: {running_loss/len(train_loader):.4f}, Acc: {acc:.4f}, Prec: {precision:.4f}, Recall: {recall:.4f}, F1: {f1:.4f}\")\n",
    "    wandb.log({\n",
    "        \"epoch\": epoch+1, \n",
    "        \"loss\": running_loss/len(train_loader), \n",
    "        \"accuracy\": acc,\n",
    "        \"precision\": precision,\n",
    "        \"recall\": recall,\n",
    "        \"f1_score\": f1\n",
    "    })"
   ]
  },
  {
   "cell_type": "code",
   "execution_count": 7,
   "metadata": {},
   "outputs": [
    {
     "name": "stdout",
     "output_type": "stream",
     "text": [
      "Model training complete and saved.\n"
     ]
    }
   ],
   "source": [
    "torch.save(model.state_dict(), \"efficientnet_skin_disease_model.pth\")\n",
    "print(\"Model training complete and saved.\")"
   ]
  }
 ],
 "metadata": {
  "kernelspec": {
   "display_name": "venv",
   "language": "python",
   "name": "python3"
  },
  "language_info": {
   "codemirror_mode": {
    "name": "ipython",
    "version": 3
   },
   "file_extension": ".py",
   "mimetype": "text/x-python",
   "name": "python",
   "nbconvert_exporter": "python",
   "pygments_lexer": "ipython3",
   "version": "3.12.9"
  }
 },
 "nbformat": 4,
 "nbformat_minor": 2
}
